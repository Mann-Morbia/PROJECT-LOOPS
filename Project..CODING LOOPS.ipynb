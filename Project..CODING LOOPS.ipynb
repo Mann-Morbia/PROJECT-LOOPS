{
 "cells": [
  {
   "cell_type": "code",
   "execution_count": 1,
   "id": "9ddcf47d",
   "metadata": {},
   "outputs": [
    {
     "name": "stdout",
     "output_type": "stream",
     "text": [
      "12,5,64,"
     ]
    }
   ],
   "source": [
    "list1 = [12, -7, 5, 64, -14]\n",
    "num = 0\n",
    "\n",
    "while(num < len(list1)):\n",
    "\n",
    "    if list1[num] >= 0:\n",
    "        print(list1[num], end = \",\")\n",
    "\n",
    "    num += 1"
   ]
  },
  {
   "cell_type": "code",
   "execution_count": 4,
   "id": "4c808f4c",
   "metadata": {},
   "outputs": [
    {
     "name": "stdout",
     "output_type": "stream",
     "text": [
      "12,14,3,"
     ]
    }
   ],
   "source": [
    "list1 = [12, 14, -95, 3]\n",
    "num = 0\n",
    "\n",
    "while(num < len(list1)):\n",
    "\n",
    "    if list1[num] >= 0:\n",
    "        print(list1[num], end = \",\")\n",
    "\n",
    "    num += 1"
   ]
  }
 ],
 "metadata": {
  "kernelspec": {
   "display_name": "Python 3",
   "language": "python",
   "name": "python3"
  },
  "language_info": {
   "codemirror_mode": {
    "name": "ipython",
    "version": 3
   },
   "file_extension": ".py",
   "mimetype": "text/x-python",
   "name": "python",
   "nbconvert_exporter": "python",
   "pygments_lexer": "ipython3",
   "version": "3.9.4"
  }
 },
 "nbformat": 4,
 "nbformat_minor": 5
}
